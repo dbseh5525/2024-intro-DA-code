{
  "nbformat": 4,
  "nbformat_minor": 0,
  "metadata": {
    "colab": {
      "provenance": [],
      "authorship_tag": "ABX9TyORNfYAhgjP/51OJRWdIMvt",
      "include_colab_link": true
    },
    "kernelspec": {
      "name": "python3",
      "display_name": "Python 3"
    },
    "language_info": {
      "name": "python"
    }
  },
  "cells": [
    {
      "cell_type": "markdown",
      "metadata": {
        "id": "view-in-github",
        "colab_type": "text"
      },
      "source": [
        "<a href=\"https://colab.research.google.com/github/dbseh5525/2024-intro-DA-code/blob/main/w02_2_control_flow_function.ipynb\" target=\"_parent\"><img src=\"https://colab.research.google.com/assets/colab-badge.svg\" alt=\"Open In Colab\"/></a>"
      ]
    },
    {
      "cell_type": "code",
      "execution_count": null,
      "metadata": {
        "colab": {
          "base_uri": "https://localhost:8080/"
        },
        "id": "14qYyIIZWktc",
        "outputId": "9d632dae-89c3-4a55-b313-e4893a3883ca"
      },
      "outputs": [
        {
          "output_type": "stream",
          "name": "stdout",
          "text": [
            "짝수\n"
          ]
        }
      ],
      "source": [
        "n = 20\n",
        "if n%2 == 0:\n",
        "  print('짝수')"
      ]
    },
    {
      "cell_type": "code",
      "source": [
        "n = 21\n",
        "if n%2 == 0:\n",
        "  print('짝수')"
      ],
      "metadata": {
        "id": "qM0ll9r0XHXf"
      },
      "execution_count": null,
      "outputs": []
    },
    {
      "cell_type": "code",
      "source": [
        "age = 18\n",
        "if age >= 20:\n",
        "  print('성인')\n",
        "else:\n",
        "  print('미성년자')"
      ],
      "metadata": {
        "colab": {
          "base_uri": "https://localhost:8080/"
        },
        "id": "WFBCcdLjXe_v",
        "outputId": "ce7fa5a9-55b0-465a-85aa-7e1cb7b8c4f9"
      },
      "execution_count": null,
      "outputs": [
        {
          "output_type": "stream",
          "name": "stdout",
          "text": [
            "미성년자\n"
          ]
        }
      ]
    },
    {
      "cell_type": "code",
      "source": [
        "age = 21\n",
        "if age >= 20:\n",
        "  print('성인')\n",
        "else:\n",
        "  print('미성년자')"
      ],
      "metadata": {
        "colab": {
          "base_uri": "https://localhost:8080/"
        },
        "id": "hZdDVWMpXjYj",
        "outputId": "d57c7285-2c99-4db5-c819-f6bf7b511e71"
      },
      "execution_count": null,
      "outputs": [
        {
          "output_type": "stream",
          "name": "stdout",
          "text": [
            "성인\n"
          ]
        }
      ]
    },
    {
      "cell_type": "code",
      "source": [
        "age = 18\n",
        "s = '성인' if age >= 20 else '미성년자'\n",
        "print(s)"
      ],
      "metadata": {
        "colab": {
          "base_uri": "https://localhost:8080/"
        },
        "id": "MVlha-MDXmFB",
        "outputId": "8ccf871b-1dd1-4f0e-ffe4-65c40065639d"
      },
      "execution_count": null,
      "outputs": [
        {
          "output_type": "stream",
          "name": "stdout",
          "text": [
            "미성년자\n"
          ]
        }
      ]
    },
    {
      "cell_type": "code",
      "source": [
        "age = 20\n",
        "s = '성인' if age >= 20 else '미성년자'\n",
        "print(s)"
      ],
      "metadata": {
        "colab": {
          "base_uri": "https://localhost:8080/"
        },
        "id": "wmpabSmtXqyZ",
        "outputId": "e0ab3986-68f5-419d-d30b-bb0fac643f4b"
      },
      "execution_count": null,
      "outputs": [
        {
          "output_type": "stream",
          "name": "stdout",
          "text": [
            "성인\n"
          ]
        }
      ]
    },
    {
      "cell_type": "code",
      "source": [
        "point = 92\n",
        "if (90 <= point):\n",
        "    print(\"A\")\n",
        "elif (80 <= point):\n",
        "    print(\"B\")\n",
        "elif (70 <= point):\n",
        "    print(\"C\")\n",
        "elif (60 <= point):\n",
        "    print(\"D\")\n",
        "else:\n",
        "    print(\"F\")"
      ],
      "metadata": {
        "colab": {
          "base_uri": "https://localhost:8080/"
        },
        "id": "ctozopbdXs89",
        "outputId": "b765f89d-c475-4a09-8590-596ff1532942"
      },
      "execution_count": null,
      "outputs": [
        {
          "output_type": "stream",
          "name": "stdout",
          "text": [
            "A\n"
          ]
        }
      ]
    },
    {
      "cell_type": "code",
      "source": [
        "point = 62\n",
        "if 90 <= point:\n",
        "    print(\"A\")\n",
        "elif 80 <= point:\n",
        "    print(\"B\")\n",
        "elif 70 <= point:\n",
        "    print(\"C\")\n",
        "elif 60 <= point:\n",
        "    print(\"D\")\n",
        "else:\n",
        "    print(\"F\")"
      ],
      "metadata": {
        "colab": {
          "base_uri": "https://localhost:8080/"
        },
        "id": "n7QZjU2bYAWM",
        "outputId": "664cbd59-d08d-4828-df9f-c546377f5d5a"
      },
      "execution_count": null,
      "outputs": [
        {
          "output_type": "stream",
          "name": "stdout",
          "text": [
            "D\n"
          ]
        }
      ]
    },
    {
      "cell_type": "code",
      "source": [
        "value = \"apple\"\n",
        "match value:\n",
        "  case 'apple':\n",
        "    result = '사과'\n",
        "  case 'banana':\n",
        "    result = '바나나'\n",
        "print(result)"
      ],
      "metadata": {
        "colab": {
          "base_uri": "https://localhost:8080/"
        },
        "id": "VJKsvepTYF2P",
        "outputId": "fc60c0eb-aa5e-4e11-d315-4510076b5284"
      },
      "execution_count": null,
      "outputs": [
        {
          "output_type": "stream",
          "name": "stdout",
          "text": [
            "사과\n"
          ]
        }
      ]
    },
    {
      "cell_type": "code",
      "source": [
        "value = \"banana\"\n",
        "match value:\n",
        "  case 'apple':\n",
        "    result = '사과'\n",
        "  case 'banana':\n",
        "    result = '바나나'\n",
        "print(result)"
      ],
      "metadata": {
        "colab": {
          "base_uri": "https://localhost:8080/"
        },
        "id": "neCm9rvyZOJc",
        "outputId": "9c76a37a-7619-4970-d182-dceb9958c644"
      },
      "execution_count": null,
      "outputs": [
        {
          "output_type": "stream",
          "name": "stdout",
          "text": [
            "바나나\n"
          ]
        }
      ]
    },
    {
      "cell_type": "code",
      "source": [
        "for x in range(1, 6):\n",
        "  print(x)"
      ],
      "metadata": {
        "colab": {
          "base_uri": "https://localhost:8080/"
        },
        "id": "XzEH4pQMZXYp",
        "outputId": "32d1abd0-0ed8-4529-99e0-55535e0f5ca6"
      },
      "execution_count": null,
      "outputs": [
        {
          "output_type": "stream",
          "name": "stdout",
          "text": [
            "1\n",
            "2\n",
            "3\n",
            "4\n",
            "5\n"
          ]
        }
      ]
    },
    {
      "cell_type": "code",
      "source": [
        "num = [10, 20, 30, 40]\n",
        "for i in num:\n",
        "  print(i)"
      ],
      "metadata": {
        "id": "t2XalZxTZbdk",
        "colab": {
          "base_uri": "https://localhost:8080/"
        },
        "outputId": "2cbf7473-ced2-479e-e8c2-4d05f0650d88"
      },
      "execution_count": 1,
      "outputs": [
        {
          "output_type": "stream",
          "name": "stdout",
          "text": [
            "10\n",
            "20\n",
            "30\n",
            "40\n"
          ]
        }
      ]
    },
    {
      "cell_type": "code",
      "source": [
        "fruits = list([\"apple\", 2500, \"banana\", 500, \"mango\", 2000])\n",
        "for x in fruits:\n",
        "  print(x)"
      ],
      "metadata": {
        "colab": {
          "base_uri": "https://localhost:8080/"
        },
        "id": "Is9PMv6BIo_o",
        "outputId": "768d355f-d7f0-4fee-b92f-ebfadd7351c6"
      },
      "execution_count": 2,
      "outputs": [
        {
          "output_type": "stream",
          "name": "stdout",
          "text": [
            "apple\n",
            "2500\n",
            "banana\n",
            "500\n",
            "mango\n",
            "2000\n"
          ]
        }
      ]
    },
    {
      "cell_type": "code",
      "source": [
        "i = 1\n",
        "sum = 0\n",
        "while i <= 10:\n",
        "  sum += i\n",
        "  i += 1\n",
        "print(sum)"
      ],
      "metadata": {
        "colab": {
          "base_uri": "https://localhost:8080/"
        },
        "id": "XVYfgm42I54m",
        "outputId": "c6ca9b51-d747-4fbf-fd71-f250ebfa11d3"
      },
      "execution_count": 3,
      "outputs": [
        {
          "output_type": "stream",
          "name": "stdout",
          "text": [
            "55\n"
          ]
        }
      ]
    },
    {
      "cell_type": "code",
      "source": [
        "def hello():\n",
        "  print('Hello, Python!')"
      ],
      "metadata": {
        "id": "AjScnbK8I-Pk"
      },
      "execution_count": 6,
      "outputs": []
    },
    {
      "cell_type": "code",
      "source": [
        "hello()\n"
      ],
      "metadata": {
        "colab": {
          "base_uri": "https://localhost:8080/"
        },
        "id": "mebmv8hpJQa3",
        "outputId": "4004f998-f9ca-4e61-c511-63fd7f0a7539"
      },
      "execution_count": 7,
      "outputs": [
        {
          "output_type": "stream",
          "name": "stdout",
          "text": [
            "Hello, Python!\n"
          ]
        }
      ]
    },
    {
      "cell_type": "code",
      "source": [
        "type(hello)"
      ],
      "metadata": {
        "colab": {
          "base_uri": "https://localhost:8080/"
        },
        "id": "8I0VZjszJV11",
        "outputId": "a59936bf-8bd7-4559-8b47-0a4139a02deb"
      },
      "execution_count": 9,
      "outputs": [
        {
          "output_type": "execute_result",
          "data": {
            "text/plain": [
              "function"
            ]
          },
          "metadata": {},
          "execution_count": 9
        }
      ]
    },
    {
      "cell_type": "code",
      "source": [
        "def hi(one):\n",
        "  print('안녕', one)"
      ],
      "metadata": {
        "id": "FJCmxpqOJf0Z"
      },
      "execution_count": 10,
      "outputs": []
    },
    {
      "cell_type": "code",
      "source": [
        "hi(\"영희\")"
      ],
      "metadata": {
        "colab": {
          "base_uri": "https://localhost:8080/"
        },
        "id": "S3CPmicGJl83",
        "outputId": "d3d59386-0c2d-4d5c-be89-c97e7b30976f"
      },
      "execution_count": 11,
      "outputs": [
        {
          "output_type": "stream",
          "name": "stdout",
          "text": [
            "안녕 영희\n"
          ]
        }
      ]
    },
    {
      "cell_type": "code",
      "source": [
        "def hi(one = '친구들'):\n",
        "  print('안녕', one)"
      ],
      "metadata": {
        "id": "73p2X6etJp-e"
      },
      "execution_count": 13,
      "outputs": []
    },
    {
      "cell_type": "code",
      "source": [
        "hi()"
      ],
      "metadata": {
        "colab": {
          "base_uri": "https://localhost:8080/"
        },
        "id": "rFtcVr8bJ8pm",
        "outputId": "4c5967db-90e0-4933-8b4a-d7b20969e74c"
      },
      "execution_count": 14,
      "outputs": [
        {
          "output_type": "stream",
          "name": "stdout",
          "text": [
            "안녕 친구들\n"
          ]
        }
      ]
    },
    {
      "cell_type": "code",
      "source": [
        "import math as m\n",
        "def circle_area(r = 1):\n",
        "  print(m.pi * r**2)"
      ],
      "metadata": {
        "id": "Wulf3kWrKFZM"
      },
      "execution_count": 15,
      "outputs": []
    },
    {
      "cell_type": "code",
      "source": [
        "circle_area()"
      ],
      "metadata": {
        "colab": {
          "base_uri": "https://localhost:8080/"
        },
        "id": "9xPekMy-KQkw",
        "outputId": "66f3cdc7-cf95-48a3-848b-3fe27e84add0"
      },
      "execution_count": 16,
      "outputs": [
        {
          "output_type": "stream",
          "name": "stdout",
          "text": [
            "3.141592653589793\n"
          ]
        }
      ]
    },
    {
      "cell_type": "code",
      "source": [
        "circle_area(4.5)"
      ],
      "metadata": {
        "colab": {
          "base_uri": "https://localhost:8080/"
        },
        "id": "bqSo5gK7KSQA",
        "outputId": "3bc39886-8328-4fff-957b-64213b2d6419"
      },
      "execution_count": 17,
      "outputs": [
        {
          "output_type": "stream",
          "name": "stdout",
          "text": [
            "63.61725123519331\n"
          ]
        }
      ]
    },
    {
      "cell_type": "code",
      "source": [
        "circle_area(r = 5.6)"
      ],
      "metadata": {
        "colab": {
          "base_uri": "https://localhost:8080/"
        },
        "id": "xUPMsNI0KVHr",
        "outputId": "c6145ed8-a103-40bd-a977-76e914701a5a"
      },
      "execution_count": 18,
      "outputs": [
        {
          "output_type": "stream",
          "name": "stdout",
          "text": [
            "98.5203456165759\n"
          ]
        }
      ]
    },
    {
      "cell_type": "code",
      "source": [
        "print(circle_area(r = 7.2))"
      ],
      "metadata": {
        "colab": {
          "base_uri": "https://localhost:8080/"
        },
        "id": "VJS98yF6KYZA",
        "outputId": "dfe412bd-e2fc-4cb3-bd3a-b353aa312e47"
      },
      "execution_count": 19,
      "outputs": [
        {
          "output_type": "stream",
          "name": "stdout",
          "text": [
            "162.8601631620949\n",
            "None\n"
          ]
        }
      ]
    },
    {
      "cell_type": "code",
      "source": [
        "import math as m\n",
        "def circle_area(r = 1):\n",
        "  return m.pi * r**2\n",
        "\n",
        "  print(circle_area(r = 7.2))"
      ],
      "metadata": {
        "id": "46L0OABPKgpq"
      },
      "execution_count": 23,
      "outputs": []
    },
    {
      "cell_type": "code",
      "source": [
        "def sum_sub(x, y):\n",
        "  hap = x + y\n",
        "  cha = x - y\n",
        "  return hap, cha"
      ],
      "metadata": {
        "id": "mhNEs1nZKnDg"
      },
      "execution_count": 24,
      "outputs": []
    },
    {
      "cell_type": "code",
      "source": [
        "sum_sub(10, 3)"
      ],
      "metadata": {
        "colab": {
          "base_uri": "https://localhost:8080/"
        },
        "id": "trI1c_LVLpux",
        "outputId": "bb3785f2-71b8-4313-828c-3dfffb1acec4"
      },
      "execution_count": 25,
      "outputs": [
        {
          "output_type": "execute_result",
          "data": {
            "text/plain": [
              "(13, 7)"
            ]
          },
          "metadata": {},
          "execution_count": 25
        }
      ]
    },
    {
      "cell_type": "code",
      "source": [
        "sum_sub(x = 10, y = 3)"
      ],
      "metadata": {
        "colab": {
          "base_uri": "https://localhost:8080/"
        },
        "id": "hMjpuBxKLsTB",
        "outputId": "cff3d8d8-bcb0-46d1-e39f-426ad3c86323"
      },
      "execution_count": 27,
      "outputs": [
        {
          "output_type": "execute_result",
          "data": {
            "text/plain": [
              "(13, 7)"
            ]
          },
          "metadata": {},
          "execution_count": 27
        }
      ]
    },
    {
      "cell_type": "code",
      "source": [
        "sum_sub(y = 3, x = 10)"
      ],
      "metadata": {
        "colab": {
          "base_uri": "https://localhost:8080/"
        },
        "id": "edOzL2zvLwtc",
        "outputId": "69f50a56-2166-48b8-927b-ae949201ae59"
      },
      "execution_count": 28,
      "outputs": [
        {
          "output_type": "execute_result",
          "data": {
            "text/plain": [
              "(13, 7)"
            ]
          },
          "metadata": {},
          "execution_count": 28
        }
      ]
    },
    {
      "cell_type": "code",
      "source": [
        "import math as m\n",
        "(lambda a, b: m.sqrt(a**2 + b**2))(3, 4)"
      ],
      "metadata": {
        "colab": {
          "base_uri": "https://localhost:8080/"
        },
        "id": "UkPrbrj8MAmS",
        "outputId": "4d5a9a5f-45c3-4e85-9a0a-eeee5df4778a"
      },
      "execution_count": 30,
      "outputs": [
        {
          "output_type": "execute_result",
          "data": {
            "text/plain": [
              "5.0"
            ]
          },
          "metadata": {},
          "execution_count": 30
        }
      ]
    }
  ]
}